{
 "cells": [
  {
   "cell_type": "code",
   "execution_count": 1,
   "id": "1dbef0c2-fb2b-482d-aed7-91d3c185507b",
   "metadata": {},
   "outputs": [],
   "source": [
    "from sqlalchemy import create_engine\n",
    "import urllib\n",
    "import pandas as pd\n",
    "import numpy as np"
   ]
  },
  {
   "cell_type": "markdown",
   "id": "2af1fdd6-df0e-4db8-a2be-2cb0fdf150eb",
   "metadata": {},
   "source": [
    "## Conexion a la base de datos AdventureWorks2022"
   ]
  },
  {
   "cell_type": "markdown",
   "id": "1a13a831-5cf2-4503-9646-682766feaec5",
   "metadata": {},
   "source": [
    "### Primero comprobaré si puedo conectarme a la base de datos SQL Server"
   ]
  },
  {
   "cell_type": "code",
   "execution_count": 4,
   "id": "35e7200e-a3f0-4c9d-bec7-7cfca5a11207",
   "metadata": {},
   "outputs": [],
   "source": [
    "SERVER = \"localhost\\SQLEXPRESS\"\n",
    "DATABASE = \"AdventureWorks2022\"\n",
    "\n",
    "#Creacion de parámetros\n",
    "params = urllib.parse.quote_plus(f\"DRIVER={{ODBC Driver 17 for SQL Server}};SERVER={SERVER};DATABASE={DATABASE};Trusted_Connection=yes\")\n",
    "\n",
    "#Creacion de la cadena para conectarse\n",
    "connection_string = f\"mssql+pyodbc:///?odbc_connect={params}\"\n",
    "\n",
    "#Inicialización de un objeto conexión\n",
    "conn = create_engine(connection_string)"
   ]
  },
  {
   "cell_type": "markdown",
   "id": "242b009c-73c0-4498-b8c8-598ab26a3ee0",
   "metadata": {},
   "source": [
    "## 1. Extrae los datos de los clientes de la tabla Sales.Customer junto a la información de cada venta de la tabla Sales.SalesOrderHeader"
   ]
  },
  {
   "cell_type": "code",
   "execution_count": null,
   "id": "ea3772f6-4d75-446c-b33d-e192590cd269",
   "metadata": {},
   "outputs": [],
   "source": [
    "#df_customers = pd.read_sql(\"SELECT c.CustomerID, salesOrd.OrderDate, salesOrd.TotalDue FROM Sales.Customer AS c JOIN Sales.SalesOrderHeader AS salesOrd ON c.CustomerID = salesOrd.CustomerID\", conn)\n",
    "\n",
    "df_customers = pd.read_sql(\"SELECT c.CustomerID FROM Sales.Customer AS c\", conn)\n",
    "df_salesOrd = pd.read_sql(\"SELECT CustomerID, OrderDate, TotalDue FROM Sales.SalesOrderHeader\", conn)\n",
    "\n",
    "df_joins = df_customers.merge(df_salesOrd, on=\"CustomerID\", sort=True)\n",
    "\n",
    "print(df_joins.head(10))"
   ]
  },
  {
   "cell_type": "markdown",
   "id": "08a35eae-46cf-45c7-931b-1c858b8b405d",
   "metadata": {},
   "source": [
    "# 2.  Utiliza group by para obtener las siguientes columnas en el dataframe:\n",
    "· 2.1- Total vendido al cliente\n",
    "· 2.2- Fecha del primer pedido del cliente\n",
    "· 2.3- Fecha del último pedido del cliente\n",
    "· 2.4- Número de pedidos del cliente"
   ]
  },
  {
   "cell_type": "code",
   "execution_count": null,
   "id": "bc21b9a5-8ec8-49a8-bb76-94f91a1202f4",
   "metadata": {},
   "outputs": [],
   "source": [
    "df_joins_agg = df_joins.groupby(\"CustomerID\").agg(\n",
    "    total_vendido=pd.NamedAgg(\"TotalDue\", aggfunc=\"sum\"),\n",
    "    primer_pedido=pd.NamedAgg(\"OrderDate\", aggfunc=\"min\"),\n",
    "    ultimo_pedido=pd.NamedAgg(\"OrderDate\", aggfunc=\"max\"),\n",
    "    tot_pedidos=pd.NamedAgg(\"OrderDate\", aggfunc=\"count\")\n",
    ")\n",
    "\n",
    "print(df_joins_agg)"
   ]
  },
  {
   "cell_type": "markdown",
   "id": "61b8533b-fff4-4dae-bc5a-e5c67902a403",
   "metadata": {},
   "source": [
    "## 3.  Añade las siguientes columnas en el dataframe:\n",
    "- 3.1- Tiempo de vida del cliente (Esto será el tiempo transcurrido desde el primer pedido hasta el último pedido)\n",
    "- 3.2- Media del dinero gastado por venta del cliente(Será el gasto total del cliente)\n",
    "- 3.3- Valor del Tiempo de Vida del Cliente o CLV(CLV=Valor Promedio de Compra×Número de Compras×(Tiempo de Vida del Cliente(días)/365)\n"
   ]
  },
  {
   "cell_type": "code",
   "execution_count": null,
   "id": "52b94990-581a-437a-90a4-6cf4689948bb",
   "metadata": {
    "scrolled": true
   },
   "outputs": [],
   "source": [
    "df_joins_agg[\"tiempo_v_cliente\"] = (df_joins_agg[\"ultimo_pedido\"] - df_joins_agg[\"primer_pedido\"]).dt.days\n",
    "df_joins_agg[\"media_dinero_gastado\"] = df_joins_agg[\"total_vendido\"] / df_joins_agg[\"tot_pedidos\"]\n",
    "df_joins_agg[\"CLV_cliente\"] = (df_joins_agg[\"media_dinero_gastado\"] * df_joins_agg[\"tot_pedidos\"] * (df_joins_agg[\"tiempo_v_cliente\"] / 365)).round(2)\n",
    "\n",
    "print(df_joins_agg)"
   ]
  },
  {
   "cell_type": "markdown",
   "id": "46705fb9-aef2-4d79-b62c-94037033ad25",
   "metadata": {},
   "source": [
    "## 4.Carga el dataframe resultante en una tabla llamada CustomerLifetimeValue"
   ]
  },
  {
   "cell_type": "code",
   "execution_count": null,
   "id": "b2fe011a-c415-4640-9156-1a7ac2620876",
   "metadata": {},
   "outputs": [],
   "source": [
    "df_joins_agg.to_sql(\"CustomerLifetimeValue\", conn, if_exists=\"replace\")"
   ]
  },
  {
   "cell_type": "code",
   "execution_count": null,
   "id": "21d07a50-abea-4bf2-8847-fdbf7184452a",
   "metadata": {},
   "outputs": [],
   "source": []
  },
  {
   "cell_type": "markdown",
   "id": "534738fb-70c9-4d54-8885-82bb8db49bc5",
   "metadata": {},
   "source": [
    "## 1. Extrae los datos de los clientes de la tabla Sales.Customer junto a la información de ventas de la tabla Sales.SalesOrderHeader y detalles de pedidos de la tabla Sales.SalesOrderDetails"
   ]
  },
  {
   "cell_type": "code",
   "execution_count": null,
   "id": "9f70ac32-8d07-4ae6-b636-47112d1b7cda",
   "metadata": {},
   "outputs": [],
   "source": [
    "'''\n",
    "df_customers_sales = pd.read_sql(\"\"\"\n",
    "    SELECT c.CustomerID, soh.OrderDate, soh.TotalDue, sd.ProductID, sd.OrderQty, sd.UnitPrice, sd.UnitPriceDiscount, sd.LineTotal\n",
    "    FROM Sales.Customer c\n",
    "        JOIN Sales.SalesOrderHeader soh ON soh.CustomerID = c.CustomerID\n",
    "        JOIN Sales.SalesOrderDetail sd ON soh.SalesOrderID = sd.SalesOrderID\n",
    "\"\"\", conn)\n",
    "'''\n",
    "df_customers = pd.read_sql(\"SELECT CustomerID FROM Sales.Customer\", conn)\n"
   ]
  },
  {
   "cell_type": "code",
   "execution_count": null,
   "id": "a61b92b2-e9cd-44e2-a678-a7f8c60b39d3",
   "metadata": {},
   "outputs": [],
   "source": [
    "df_sod = pd.read_sql(\"SELECT SalesOrderID, OrderQty, UnitPrice, UnitPriceDiscount, LineTotal FROM Sales.SalesOrderDetail\", conn) #salesOrderDetail\n",
    "\n",
    "df_customer_salesheader = df_customers.merge(df_soh, on=\"CustomerID\", how=\"inner\")\n",
    "df_customer_sales = df_customer_salesheader.merge(df_sod, on=\"SalesOrderID\", how=\"inner\")\n",
    "\n",
    "print(df_customers_sales.head(5))"
   ]
  }
 ],
 "metadata": {
  "kernelspec": {
   "display_name": "Python 3 (ipykernel)",
   "language": "python",
   "name": "python3"
  },
  "language_info": {
   "codemirror_mode": {
    "name": "ipython",
    "version": 3
   },
   "file_extension": ".py",
   "mimetype": "text/x-python",
   "name": "python",
   "nbconvert_exporter": "python",
   "pygments_lexer": "ipython3",
   "version": "3.11.7"
  }
 },
 "nbformat": 4,
 "nbformat_minor": 5
}
