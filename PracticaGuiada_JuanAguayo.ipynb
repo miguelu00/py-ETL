{
 "cells": [
  {
   "cell_type": "code",
   "execution_count": 1,
   "id": "1dbef0c2-fb2b-482d-aed7-91d3c185507b",
   "metadata": {},
   "outputs": [],
   "source": [
    "from sqlalchemy import create_engine\n",
    "import urllib\n",
    "import pandas as pd\n",
    "import numpy as np"
   ]
  },
  {
   "cell_type": "markdown",
   "id": "2af1fdd6-df0e-4db8-a2be-2cb0fdf150eb",
   "metadata": {},
   "source": [
    "## Conexion a la base de datos AdventureWorks2022"
   ]
  },
  {
   "cell_type": "markdown",
   "id": "1a13a831-5cf2-4503-9646-682766feaec5",
   "metadata": {},
   "source": [
    "### Primero comprobaré si puedo conectarme a la base de datos SQL Server"
   ]
  },
  {
   "cell_type": "code",
   "execution_count": 5,
   "id": "35e7200e-a3f0-4c9d-bec7-7cfca5a11207",
   "metadata": {},
   "outputs": [],
   "source": [
    "SERVER = \"localhost\\SQLEXPRESS\"\n",
    "DATABASE = \"AdventureWorks2022\"\n",
    "\n",
    "#Creacion de parámetros\n",
    "params = urllib.parse.quote_plus(f\"DRIVER={{ODBC Driver 17 for SQL Server}};SERVER={SERVER};DATABASE={DATABASE};Trusted_Connection=yes\")\n",
    "\n",
    "#Creacion de la cadena para conectarse\n",
    "connection_string = f\"mssql+pyodbc:///?odbc_connect={params}\"\n",
    "\n",
    "#Inicialización de un objeto conexión\n",
    "conn = create_engine(connection_string)"
   ]
  },
  {
   "cell_type": "markdown",
   "id": "242b009c-73c0-4498-b8c8-598ab26a3ee0",
   "metadata": {},
   "source": [
    "## 1. Extrae los datos de los clientes de la tabla Sales.Customer junto a la información de cada venta de la tabla Sales.SalesOrderHeader"
   ]
  },
  {
   "cell_type": "code",
   "execution_count": 8,
   "id": "ea3772f6-4d75-446c-b33d-e192590cd269",
   "metadata": {},
   "outputs": [
    {
     "name": "stdout",
     "output_type": "stream",
     "text": [
      "   CustomerID  OrderDate   TotalDue\n",
      "0       11000 2011-06-21  3756.9890\n",
      "1       11000 2013-06-20  2587.8769\n",
      "2       11000 2013-10-03  2770.2682\n",
      "3       11001 2011-06-17  3729.3640\n",
      "4       11001 2013-06-18  2674.0227\n",
      "5       11001 2014-05-12   650.8008\n",
      "6       11002 2011-06-09  3756.9890\n",
      "7       11002 2013-06-02  2535.9640\n",
      "8       11002 2013-07-26  2673.0613\n",
      "9       11003 2011-05-31  3756.9890\n"
     ]
    }
   ],
   "source": [
    "#df_customers = pd.read_sql(\"SELECT c.CustomerID, salesOrd.OrderDate, salesOrd.TotalDue FROM Sales.Customer AS c JOIN Sales.SalesOrderHeader AS salesOrd ON c.CustomerID = salesOrd.CustomerID\", conn)\n",
    "\n",
    "df_customers = pd.read_sql(\"SELECT c.CustomerID FROM Sales.Customer AS c\", conn)\n",
    "df_salesOrd = pd.read_sql(\"SELECT CustomerID, OrderDate, TotalDue FROM Sales.SalesOrderHeader\", conn)\n",
    "\n",
    "df_joins = df_customers.merge(df_salesOrd, on=\"CustomerID\", sort=True)\n",
    "\n",
    "print(df_joins.head(10))"
   ]
  },
  {
   "cell_type": "markdown",
   "id": "08a35eae-46cf-45c7-931b-1c858b8b405d",
   "metadata": {},
   "source": [
    "# 2.  Utiliza group by para obtener las siguientes columnas en el dataframe:\n",
    "· 2.1- Total vendido al cliente\n",
    "· 2.2- Fecha del primer pedido del cliente\n",
    "· 2.3- Fecha del último pedido del cliente\n",
    "· 2.4- Número de pedidos del cliente"
   ]
  },
  {
   "cell_type": "code",
   "execution_count": 11,
   "id": "bc21b9a5-8ec8-49a8-bb76-94f91a1202f4",
   "metadata": {},
   "outputs": [
    {
     "name": "stdout",
     "output_type": "stream",
     "text": [
      "            total_vendido primer_pedido ultimo_pedido  tot_pedidos\n",
      "CustomerID                                                        \n",
      "11000           9115.1341    2011-06-21    2013-10-03            3\n",
      "11001           7054.1875    2011-06-17    2014-05-12            3\n",
      "11002           8966.0143    2011-06-09    2013-07-26            3\n",
      "11003           8993.9155    2011-05-31    2013-10-10            3\n",
      "11004           9056.5911    2011-06-25    2013-10-01            3\n",
      "...                   ...           ...           ...          ...\n",
      "30114          13135.0333    2012-05-30    2014-03-01            8\n",
      "30115          10033.8172    2012-06-30    2014-03-31            8\n",
      "30116         211671.2674    2013-05-30    2014-03-01            4\n",
      "30117         919801.8188    2011-07-01    2014-03-31           12\n",
      "30118         313671.5352    2012-07-31    2014-05-01            8\n",
      "\n",
      "[19119 rows x 4 columns]\n"
     ]
    }
   ],
   "source": [
    "df_joins_agg = df_joins.groupby(\"CustomerID\").agg(\n",
    "    total_vendido=pd.NamedAgg(\"TotalDue\", aggfunc=\"sum\"),\n",
    "    primer_pedido=pd.NamedAgg(\"OrderDate\", aggfunc=\"min\"),\n",
    "    ultimo_pedido=pd.NamedAgg(\"OrderDate\", aggfunc=\"max\"),\n",
    "    tot_pedidos=pd.NamedAgg(\"OrderDate\", aggfunc=\"count\")\n",
    ")\n",
    "\n",
    "print(df_joins_agg)"
   ]
  },
  {
   "cell_type": "markdown",
   "id": "61b8533b-fff4-4dae-bc5a-e5c67902a403",
   "metadata": {},
   "source": [
    "## 3.  Añade las siguientes columnas en el dataframe:\n",
    "- 3.1- Tiempo de vida del cliente (Esto será el tiempo transcurrido desde el primer pedido hasta el último pedido)\n",
    "- 3.2- Media del dinero gastado por venta del cliente(Será el gasto total del cliente)\n",
    "- 3.3- Valor del Tiempo de Vida del Cliente o CLV(CLV=Valor Promedio de Compra×Número de Compras×(Tiempo de Vida del Cliente(días)/365)\n"
   ]
  },
  {
   "cell_type": "code",
   "execution_count": 14,
   "id": "52b94990-581a-437a-90a4-6cf4689948bb",
   "metadata": {
    "scrolled": true
   },
   "outputs": [
    {
     "name": "stdout",
     "output_type": "stream",
     "text": [
      "            total_vendido primer_pedido ultimo_pedido  tot_pedidos  \\\n",
      "CustomerID                                                           \n",
      "11000           9115.1341    2011-06-21    2013-10-03            3   \n",
      "11001           7054.1875    2011-06-17    2014-05-12            3   \n",
      "11002           8966.0143    2011-06-09    2013-07-26            3   \n",
      "11003           8993.9155    2011-05-31    2013-10-10            3   \n",
      "11004           9056.5911    2011-06-25    2013-10-01            3   \n",
      "...                   ...           ...           ...          ...   \n",
      "30114          13135.0333    2012-05-30    2014-03-01            8   \n",
      "30115          10033.8172    2012-06-30    2014-03-31            8   \n",
      "30116         211671.2674    2013-05-30    2014-03-01            4   \n",
      "30117         919801.8188    2011-07-01    2014-03-31           12   \n",
      "30118         313671.5352    2012-07-31    2014-05-01            8   \n",
      "\n",
      "            tiempo_v_cliente  media_dinero_gastado  CLV_cliente  \n",
      "CustomerID                                                       \n",
      "11000                    835           3038.378033     20852.43  \n",
      "11001                   1060           2351.395833     20486.13  \n",
      "11002                    778           2988.671433     19111.12  \n",
      "11003                    863           2997.971833     21265.07  \n",
      "11004                    829           3018.863700     20569.63  \n",
      "...                      ...                   ...          ...  \n",
      "30114                    640           1641.879162     23031.29  \n",
      "30115                    639           1254.227150     17566.05  \n",
      "30116                    275          52917.816850    159478.35  \n",
      "30117                   1004          76650.151567   2530085.00  \n",
      "30118                    639          39208.941900    549140.03  \n",
      "\n",
      "[19119 rows x 7 columns]\n"
     ]
    }
   ],
   "source": [
    "df_joins_agg[\"tiempo_v_cliente\"] = (df_joins_agg[\"ultimo_pedido\"] - df_joins_agg[\"primer_pedido\"]).dt.days\n",
    "df_joins_agg[\"media_dinero_gastado\"] = df_joins_agg[\"total_vendido\"] / df_joins_agg[\"tot_pedidos\"]\n",
    "df_joins_agg[\"CLV_cliente\"] = (df_joins_agg[\"media_dinero_gastado\"] * df_joins_agg[\"tot_pedidos\"] * (df_joins_agg[\"tiempo_v_cliente\"] / 365)).round(2)\n",
    "\n",
    "print(df_joins_agg)"
   ]
  },
  {
   "cell_type": "markdown",
   "id": "46705fb9-aef2-4d79-b62c-94037033ad25",
   "metadata": {},
   "source": [
    "## 4.Carga el dataframe resultante en una tabla llamada CustomerLifetimeValue"
   ]
  },
  {
   "cell_type": "code",
   "execution_count": 17,
   "id": "b2fe011a-c415-4640-9156-1a7ac2620876",
   "metadata": {},
   "outputs": [
    {
     "data": {
      "text/plain": [
       "255"
      ]
     },
     "execution_count": 17,
     "metadata": {},
     "output_type": "execute_result"
    }
   ],
   "source": [
    "df_joins_agg.to_sql(\"CustomerLifetimeValue\", conn, if_exists=\"replace\")"
   ]
  },
  {
   "cell_type": "code",
   "execution_count": null,
   "id": "21d07a50-abea-4bf2-8847-fdbf7184452a",
   "metadata": {},
   "outputs": [],
   "source": []
  },
  {
   "cell_type": "markdown",
   "id": "534738fb-70c9-4d54-8885-82bb8db49bc5",
   "metadata": {},
   "source": [
    "## 1. Extrae los datos de los clientes de la tabla Sales.Customer junto a la información de ventas de la tabla Sales.SalesOrderHeader y detalles de pedidos de la tabla Sales.SalesOrderDetails"
   ]
  },
  {
   "cell_type": "code",
   "execution_count": 40,
   "id": "9f70ac32-8d07-4ae6-b636-47112d1b7cda",
   "metadata": {},
   "outputs": [
    {
     "name": "stdout",
     "output_type": "stream",
     "text": [
      "   CustomerID_x  SalesOrderID OrderDate_x  TotalDue_x  CustomerID_y  \\\n",
      "0         11012         54508  2013-08-16     82.8529         11012   \n",
      "1         11012         68413  2014-03-17      6.9394         11012   \n",
      "2         11013         56137  2013-09-13     43.0729         11013   \n",
      "3         11013         74908  2014-06-23     82.8529         11013   \n",
      "4         11014         54898  2013-08-23     43.0729         11014   \n",
      "\n",
      "  OrderDate_y  TotalDue_y  \n",
      "0  2013-08-16     82.8529  \n",
      "1  2014-03-17      6.9394  \n",
      "2  2013-09-13     43.0729  \n",
      "3  2014-06-23     82.8529  \n",
      "4  2013-08-23     43.0729  \n"
     ]
    }
   ],
   "source": [
    "'''\n",
    "df_customers_sales = pd.read_sql(\"\"\"\n",
    "    SELECT c.CustomerID, soh.OrderDate, soh.TotalDue, sd.ProductID, sd.OrderQty, sd.UnitPrice, sd.UnitPriceDiscount, sd.LineTotal\n",
    "    FROM Sales.Customer c\n",
    "        JOIN Sales.SalesOrderHeader soh ON soh.CustomerID = c.CustomerID\n",
    "        JOIN Sales.SalesOrderDetail sd ON soh.SalesOrderID = sd.SalesOrderID\n",
    "\"\"\", conn)\n",
    "'''\n",
    "df_customers = pd.read_sql(\"SELECT CustomerID FROM Sales.Customer\", conn)\n",
    "df_soh = pd.read_sql(\"SELECT CustomerID, SalesOrderID, OrderDate, TotalDue FROM Sales.SalesOrderHeader\", conn) #salesOrderHeader\n",
    "df_sod = pd.read_sql(\"SELECT SalesOrderID, OrderQty, UnitPrice, UnitPriceDiscount, LineTotal FROM Sales.SalesOrderDetail\", conn) #salesOrderDetail\n",
    "\n",
    "df_customer_salesheader = df_customers.merge(df_soh, on=\"CustomerID\", how=\"inner\")\n",
    "df_customers_sales = df_customer_salesheader.merge(df_customer_salesheader, on=\"SalesOrderID\", how=\"inner\")\n",
    "\n",
    "print(df_customers_sales.head(5))"
   ]
  },
  {
   "cell_type": "markdown",
   "id": "575b35b6-0f5f-4aad-a6c8-0fb959da49f2",
   "metadata": {},
   "source": [
    "## 2. Utiliza group by para obtener las siguientes columnas en el dataframe:\n",
    "2.1- Total de unidades vendidas de un producto en cada mes de existencia del producto\n",
    "2.2- Total vendido de un producto cada mes"
   ]
  },
  {
   "cell_type": "code",
   "execution_count": 85,
   "id": "2baca6b2-47b7-443f-be1a-777ef3e5e20d",
   "metadata": {},
   "outputs": [
    {
     "name": "stdout",
     "output_type": "stream",
     "text": [
      "   CustomerID_x  SalesOrderID OrderDate_x  TotalDue_x  CustomerID_y  \\\n",
      "0         11012         54508  2013-08-16     82.8529         11012   \n",
      "1         11012         68413  2014-03-17      6.9394         11012   \n",
      "2         11013         56137  2013-09-13     43.0729         11013   \n",
      "3         11013         74908  2014-06-23     82.8529         11013   \n",
      "4         11014         54898  2013-08-23     43.0729         11014   \n",
      "5         11014         57222  2013-09-30    109.9144         11014   \n",
      "6         11021         51610  2013-06-25   2621.0158         11021   \n",
      "7         11022         51556  2013-06-22   2566.1194         11022   \n",
      "8         11040         55599  2013-09-03   2597.8108         11040   \n",
      "9         11062         51347  2013-06-09   2598.9158         11062   \n",
      "\n",
      "  OrderDate_y  TotalDue_y  mes  \n",
      "0  2013-08-16     82.8529    8  \n",
      "1  2014-03-17      6.9394    3  \n",
      "2  2013-09-13     43.0729    9  \n",
      "3  2014-06-23     82.8529    6  \n",
      "4  2013-08-23     43.0729    8  \n",
      "5  2013-09-30    109.9144    9  \n",
      "6  2013-06-25   2621.0158    6  \n",
      "7  2013-06-22   2566.1194    6  \n",
      "8  2013-09-03   2597.8108    9  \n",
      "9  2013-06-09   2598.9158    6  \n",
      "     sum_sales  totalDue_month\n",
      "mes                           \n",
      "1         2877    1.159643e+07\n",
      "2         2300    5.727484e+06\n",
      "3         3144    1.526499e+07\n",
      "4         2812    6.698521e+06\n",
      "5         3175    1.368421e+07\n",
      "6         2189    1.089816e+07\n",
      "7         2356    1.165426e+07\n",
      "8         2324    8.977000e+06\n",
      "9         2300    9.520021e+06\n",
      "10        2616    1.338871e+07\n",
      "11        2716    6.607134e+06\n",
      "12        2656    9.199874e+06\n",
      "\n",
      "     sum_sales  totalDue_month\n",
      "mes                           \n",
      "5         3175    1.368421e+07\n"
     ]
    }
   ],
   "source": [
    "df_ctm_sales = df_customers_sales.copy(deep=True)\n",
    "\n",
    "#Primero, agregar una columna con solo la info. del mes para cada OrderDate (OrderDate_x)\n",
    "df_ctm_sales[\"mes\"] = df_ctm_sales[\"OrderDate_x\"].dt.month\n",
    "\n",
    "print(df_ctm_sales.head(10))\n",
    "\n",
    "#Ahora, usar groupby para agrupar por \n",
    "df_ctm_sales_groupby = df_ctm_sales.groupby(\"mes\").agg(\n",
    "    \n",
    "    sum_sales=pd.NamedAgg(\"SalesOrderID\", aggfunc=\"count\"),\n",
    "    totalDue_month=pd.NamedAgg(\"TotalDue_x\", aggfunc=\"sum\")\n",
    ")\n",
    "\n",
    "print(df_ctm_sales_groupby.head(20))\n",
    "\n",
    "print()\n",
    "print(df_ctm_sales_groupby.query(\"`mes` == 5\"))"
   ]
  },
  {
   "cell_type": "code",
   "execution_count": null,
   "id": "904dd2bc-b93a-4ff3-a1a2-699c7facd84d",
   "metadata": {},
   "outputs": [],
   "source": []
  }
 ],
 "metadata": {
  "kernelspec": {
   "display_name": "Python 3 (ipykernel)",
   "language": "python",
   "name": "python3"
  },
  "language_info": {
   "codemirror_mode": {
    "name": "ipython",
    "version": 3
   },
   "file_extension": ".py",
   "mimetype": "text/x-python",
   "name": "python",
   "nbconvert_exporter": "python",
   "pygments_lexer": "ipython3",
   "version": "3.11.7"
  }
 },
 "nbformat": 4,
 "nbformat_minor": 5
}
