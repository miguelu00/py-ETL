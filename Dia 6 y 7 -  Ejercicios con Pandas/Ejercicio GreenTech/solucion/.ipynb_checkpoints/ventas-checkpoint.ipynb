{
 "cells": [
  {
   "cell_type": "code",
   "execution_count": 3,
   "metadata": {},
   "outputs": [],
   "source": [
    "import pandas as pd\n",
    "import numpy as np\n",
    "import locale"
   ]
  },
  {
   "cell_type": "markdown",
   "metadata": {},
   "source": [
    "## Carga el DataFrame desde un archivo Excel"
   ]
  },
  {
   "cell_type": "code",
   "execution_count": 4,
   "metadata": {},
   "outputs": [],
   "source": [
    "df = pd.read_excel(\"../data/ventas.xlsx\")"
   ]
  },
  {
   "cell_type": "markdown",
   "metadata": {},
   "source": [
    "## Utiliza df.melt() para transformar el DataFrame de un formato ancho a un formato largo. Asegúrate de mantener la columna rama como identificador, nombrar la columna de variables como \"periodo\" y la de valores como \"facturacion\"."
   ]
  },
  {
   "cell_type": "code",
   "execution_count": 5,
   "metadata": {},
   "outputs": [],
   "source": [
    "df = df.melt(id_vars=[\"rama\"], var_name=\"periodo\", value_name=\"facturacion\")"
   ]
  },
  {
   "cell_type": "markdown",
   "metadata": {},
   "source": [
    "## Extrae el año y mes del nombre de la columna \"periodo\" utilizando expresiones regulares."
   ]
  },
  {
   "cell_type": "code",
   "execution_count": 6,
   "metadata": {},
   "outputs": [],
   "source": [
    "df[\"periodo\"] = df[\"periodo\"].str.extract(r\"(\\d{2}\\d{2}$)\", expand=True)"
   ]
  },
  {
   "cell_type": "markdown",
   "metadata": {},
   "source": [
    "## Convierte los valores de \"periodo\" a objetos datetime utilizando el formato adecuado para año y mes"
   ]
  },
  {
   "cell_type": "code",
   "execution_count": 7,
   "metadata": {},
   "outputs": [],
   "source": [
    "df[\"periodo\"] = pd.to_datetime(df[\"periodo\"], format=\"%m%y\")"
   ]
  },
  {
   "cell_type": "markdown",
   "metadata": {},
   "source": [
    "## Calcula el último periodo de tiempo disponible en el DataFrame.\n",
    "## Luego, marca los registros de los últimos tres meses como provisionales, crea una columna \"provisional\""
   ]
  },
  {
   "cell_type": "code",
   "execution_count": 8,
   "metadata": {},
   "outputs": [],
   "source": [
    "ultimo_periodo = df[\"periodo\"].max()\n",
    "periodo_ultimo_tres_meses = ultimo_periodo - pd.DateOffset(months=3)\n",
    "df[\"provisional\"] = np.where(\n",
    "    (df[\"periodo\"] >= periodo_ultimo_tres_meses) & (df[\"periodo\"] <= ultimo_periodo),\n",
    "    \"p\",\n",
    "    \"\",\n",
    ")"
   ]
  },
  {
   "cell_type": "markdown",
   "metadata": {},
   "source": [
    "1. Extrae el año y el mes del periodo para su uso en cálculos futuros.\n",
    "2. Configura el entorno local a \"es_ES.UTF-8\" para asegurar que los meses se presenten en español.\n",
    "3. Formatea el campo \"mes\" para que el nombre del mes esté en español y con la primera letra en mayúscula."
   ]
  },
  {
   "cell_type": "code",
   "execution_count": 9,
   "metadata": {},
   "outputs": [],
   "source": [
    "df[\"anio\"] = df[\"periodo\"].dt.year"
   ]
  },
  {
   "cell_type": "code",
   "execution_count": 10,
   "metadata": {},
   "outputs": [],
   "source": [
    "df[\"orden_mes\"] = df[\"periodo\"].dt.month"
   ]
  },
  {
   "cell_type": "code",
   "execution_count": 11,
   "metadata": {},
   "outputs": [],
   "source": [
    "locale.setlocale(locale.LC_ALL, \"es_ES.UTF-8\")\n",
    "df[\"mes\"] = df[\"periodo\"].dt.strftime(\"%B\").str.capitalize()"
   ]
  },
  {
   "cell_type": "markdown",
   "metadata": {},
   "source": [
    "## Calcula la variación interanual e intermensual de la facturación"
   ]
  },
  {
   "cell_type": "code",
   "execution_count": 12,
   "metadata": {},
   "outputs": [],
   "source": [
    "df[\"last_year_value\"] = df.groupby(\"rama\")[\"facturacion\"].shift(12)\n",
    "df[\"variacion_interanual\"] = (\n",
    "    (df[\"facturacion\"] - df[\"last_year_value\"]) / df[\"last_year_value\"]\n",
    ") * 100"
   ]
  },
  {
   "cell_type": "code",
   "execution_count": 13,
   "metadata": {},
   "outputs": [],
   "source": [
    "df[\"last_month_value\"] = df.groupby(\"rama\")[\"facturacion\"].shift(1)\n",
    "df[\"variacion_intermensual\"] = (\n",
    "    (df[\"facturacion\"] - df[\"last_month_value\"]) / df[\"last_month_value\"]\n",
    ") * 100"
   ]
  },
  {
   "cell_type": "markdown",
   "metadata": {},
   "source": [
    "## Calcula la media de la facturación anual y compárala con el año anterior"
   ]
  },
  {
   "cell_type": "code",
   "execution_count": 14,
   "metadata": {},
   "outputs": [],
   "source": [
    "df[\"media_anio\"] = (\n",
    "    df.groupby([\"rama\", \"anio\"])[\"facturacion\"].cumsum() / df[\"orden_mes\"]\n",
    ")\n",
    "df[\"media_anio_anterior\"] = df.groupby(\"rama\")[\"media_anio\"].shift(12)\n",
    "df[\"var_media_va_anio\"] = (df[\"media_anio\"] / df[\"media_anio_anterior\"] - 1) * 100"
   ]
  },
  {
   "cell_type": "markdown",
   "metadata": {},
   "source": [
    "## Transforma nuevamente el DataFrame a un formato largo que incluya las medidas calculadas en los pasos anteriores."
   ]
  },
  {
   "cell_type": "code",
   "execution_count": 15,
   "metadata": {},
   "outputs": [],
   "source": [
    "df = pd.melt(\n",
    "    df,\n",
    "    id_vars=[\"provisional\", \"rama\", \"anio\", \"orden_mes\", \"mes\"],\n",
    "    value_vars=[\n",
    "        \"facturacion\",\n",
    "        \"variacion_interanual\",\n",
    "        \"variacion_intermensual\",\n",
    "        \"var_media_va_anio\",\n",
    "    ],\n",
    "    var_name=\"medida\",\n",
    "    value_name=\"valor\",\n",
    ")"
   ]
  },
  {
   "cell_type": "markdown",
   "metadata": {},
   "source": [
    "## Renombra las columnas de medidas para que sean más descriptivas."
   ]
  },
  {
   "cell_type": "code",
   "execution_count": 16,
   "metadata": {},
   "outputs": [],
   "source": [
    "cambio_nombre = {\n",
    "    \"facturacion\": \"Facturación (Miles de €)\",\n",
    "    \"variacion_intermensual\": \"Variación intermensual (%)\",\n",
    "    \"variacion_interanual\": \"Variación interanual (%)\",\n",
    "    \"var_media_va_anio\": \"Variación de la media en lo que va de año (%)\",\n",
    "}"
   ]
  },
  {
   "cell_type": "markdown",
   "metadata": {},
   "source": [
    "## Define y aplica un orden específico para las medidas utilizando una columna \"orden_medida\""
   ]
  },
  {
   "cell_type": "code",
   "execution_count": 17,
   "metadata": {},
   "outputs": [],
   "source": [
    "df[\"medida\"] = df[\"medida\"].replace(cambio_nombre)"
   ]
  },
  {
   "cell_type": "code",
   "execution_count": 18,
   "metadata": {},
   "outputs": [],
   "source": [
    "orden_medida = {\n",
    "    \"Índice\": 1,\n",
    "    \"Variación intermensual (%)\": 2,\n",
    "    \"Variación interanual (%)\": 3,\n",
    "    \"Variación de la media en lo que va de año (%)\": 4,\n",
    "}"
   ]
  },
  {
   "cell_type": "code",
   "execution_count": 19,
   "metadata": {},
   "outputs": [],
   "source": [
    "df[\"orden_medida\"] = df[\"medida\"].map(orden_medida)"
   ]
  },
  {
   "cell_type": "markdown",
   "metadata": {},
   "source": [
    "## Exporta el DataFrame transformado a un archivo CSV "
   ]
  },
  {
   "cell_type": "code",
   "execution_count": 21,
   "metadata": {},
   "outputs": [],
   "source": [
    "df.to_csv(\"../data/resultados.csv\", sep=\"\\t\", encoding=\"utf-8\", index=False)"
   ]
  }
 ],
 "metadata": {
  "kernelspec": {
   "display_name": ".venv",
   "language": "python",
   "name": "python3"
  },
  "language_info": {
   "codemirror_mode": {
    "name": "ipython",
    "version": 3
   },
   "file_extension": ".py",
   "mimetype": "text/x-python",
   "name": "python",
   "nbconvert_exporter": "python",
   "pygments_lexer": "ipython3",
   "version": "3.11.9"
  }
 },
 "nbformat": 4,
 "nbformat_minor": 2
}
