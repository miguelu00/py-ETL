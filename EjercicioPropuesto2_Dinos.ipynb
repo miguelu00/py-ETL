{
 "cells": [
  {
   "cell_type": "code",
   "execution_count": 63,
   "id": "24136491-3060-40b6-b9ea-c79d4e868bc0",
   "metadata": {},
   "outputs": [],
   "source": [
    "import os\n",
    "import pandas as pd\n",
    "from sqlalchemy import create_engine\n",
    "\n",
    "SERVER_BD = \"localhost\\\\SQLEXPRESS\"\n",
    "DATABASE = \"AdventureWorks2022\""
   ]
  },
  {
   "cell_type": "markdown",
   "id": "b7796b00-b235-4961-955b-20f9ae30904a",
   "metadata": {},
   "source": [
    "## 2.1. Agregación de columnas y filtrado"
   ]
  },
  {
   "cell_type": "markdown",
   "id": "e1fc5398-2643-49c2-ac5f-30cf9fbff810",
   "metadata": {},
   "source": [
    "### <b>1. Seleccionar todos los dinosaurios en un solo DataFrame</b>"
   ]
  },
  {
   "cell_type": "code",
   "execution_count": 64,
   "id": "f6a57cac-0f7a-46a5-9404-649f25194979",
   "metadata": {},
   "outputs": [
    {
     "name": "stdout",
     "output_type": "stream",
     "text": [
      "            Name             Period       Diet        Country\n",
      "0       Aardonyx           Jurassic  herbivore   South Africa\n",
      "1    Abelisaurus  Cretaceous         carnivore  South America\n",
      "2  Abrictosaurus           Jurassic  herbivore   South Africa\n",
      "3     Abrosaurus           Jurassic  herbivore          China\n",
      "4    Abydosaurus         Cretaceous  herbivore  North America\n",
      "5  Acanthopholis         Cretaceous  herbivore        England\n",
      "6  Achelousaurus         Cretaceous  herbivore  North America\n",
      "7   Acheroraptor         Cretaceous  carnivore  North America\n",
      "8  Achillesaurus         Cretaceous  carnivore  South America\n",
      "9   Achillobator         Cretaceous  carnivore       Mongolia\n"
     ]
    }
   ],
   "source": [
    "#conectar a Dinosaurs.csv\n",
    "df_dinos = pd.read_csv(\"C:\\\\Users\\\\miguel.fuentes.vale\\\\Documents\\\\Apuntes_MongoDB\\\\dinosaur.csv\", delimiter=\",\")\n",
    "\n",
    "print(df_dinos.head(10))"
   ]
  },
  {
   "cell_type": "markdown",
   "id": "3fac76db-37da-407b-adcc-c095ad701989",
   "metadata": {},
   "source": [
    "### <b>2. Agregar una columna con IDs únicos para cada dinosaurio en la lista</b>"
   ]
  },
  {
   "cell_type": "code",
   "execution_count": 65,
   "id": "3b7ddf99-87b5-46c9-8aa2-444bbf073fa1",
   "metadata": {},
   "outputs": [
    {
     "name": "stdout",
     "output_type": "stream",
     "text": [
      "int64\n",
      "                Name             Period       Diet        Country    ID\n",
      "0           Aardonyx           Jurassic  herbivore   South Africa     0\n",
      "1        Abelisaurus  Cretaceous         carnivore  South America     1\n",
      "2      Abrictosaurus           Jurassic  herbivore   South Africa     2\n",
      "3         Abrosaurus           Jurassic  herbivore          China     3\n",
      "4        Abydosaurus         Cretaceous  herbivore  North America     4\n",
      "...              ...                ...        ...            ...   ...\n",
      "1149  Zizhongosaurus           Jurassic  herbivore          China  1149\n",
      "1150    Zuniceratops         Cretaceous  herbivore  North America  1150\n",
      "1151         Zuolong           Jurassic  carnivore          China  1151\n",
      "1152     Zupaysaurus           Triassic  carnivore  South America  1152\n",
      "1153            Zuul         Cretaceous  herbivore  North America  1153\n",
      "\n",
      "[1154 rows x 5 columns]\n"
     ]
    }
   ],
   "source": [
    "df_dinos[\"ID\"] = df_dinos[\"Name\"].index\n",
    "\n",
    "print(df_dinos[\"ID\"].dtype) # comprobar que el tipo de dato de la columna ID es int\n",
    "print(df_dinos)"
   ]
  },
  {
   "cell_type": "markdown",
   "id": "cc9d5f36-bf97-4049-857a-5306704083ed",
   "metadata": {},
   "source": [
    "### <b>2.1. exportar a SQL Server (nombre de tabla libre)</b>"
   ]
  },
  {
   "cell_type": "code",
   "execution_count": 71,
   "id": "9bbb20f1-0379-44ee-b112-4c4ffbda32b4",
   "metadata": {},
   "outputs": [
    {
     "data": {
      "text/plain": [
       "107"
      ]
     },
     "execution_count": 71,
     "metadata": {},
     "output_type": "execute_result"
    }
   ],
   "source": [
    "# Hacer la conexión, y guardar la nueva tabla\n",
    "conn = create_engine(f\"mssql+pyodbc:///?odbc_connect=DRIVER=ODBC+Driver+17+for+SQL+Server;SERVER={SERVER_BD};DATABASE={DATABASE};Trusted_Connection=yes\")\n",
    "df_dinos.to_sql(\"DINOSAURIOS_py\", conn)"
   ]
  },
  {
   "cell_type": "markdown",
   "id": "06c8c593-a70b-4613-a3e2-ea59b95720e0",
   "metadata": {},
   "source": [
    "### <b>3. A partir del DataFrame resultante, mostrar por pantalla sólo aquellos dinosaurios con ID múltiplo de 10</b>"
   ]
  },
  {
   "cell_type": "code",
   "execution_count": 73,
   "id": "0eb29e79-f5b9-4027-a8fe-bf7b8aa667e6",
   "metadata": {},
   "outputs": [
    {
     "name": "stdout",
     "output_type": "stream",
     "text": [
      "              Name           Period         Diet        Country   ID\n",
      "0         Aardonyx         Jurassic    herbivore   South Africa    0\n",
      "10      Acristavus       Cretaceous    herbivore  North America   10\n",
      "20      Aepisaurus       Cretaceous    herbivore         France   20\n",
      "30    Airakoraptor       Cretaceous    carnivore       Mongolia   30\n",
      "40       Albinykus       Cretaceous    carnivore       Mongolia   40\n",
      "50        Alocodon         Jurassic  (herbivore)       Portugal   50\n",
      "60    Amphicoelias         Jurassic    herbivore  North America   60\n",
      "70      Andesaurus       Cretaceous    herbivore  South America   70\n",
      "80   Antarctopelta  Late Cretaceous    herbivore     Antarctica   80\n",
      "90    Aquilarhinus       Cretaceous    herbivore  North America   90\n",
      "100    Arenysaurus       Cretaceous    herbivore          Spain  100\n",
      "110       Astrodon       Cretaceous    herbivore  North America  110\n",
      "120     Aucasaurus       Cretaceous    carnivore  South America  120\n",
      "130   Aviatyrannis         Jurassic    carnivore       Portugal  130\n",
      "140  Balochisaurus       Cretaceous    herbivore       Pakistan  140\n",
      "150   Batyrosaurus       Cretaceous    herbivore     Kazakhstan  150\n",
      "160    Bienosaurus         Jurassic    herbivore          China  160\n",
      "170  Borealosaurus       Cretaceous    herbivore          China  170\n",
      "180  Bravoceratops       Cretaceous    herbivore  North America  180\n",
      "190   Calamosaurus       Cretaceous    carnivore        England  190\n"
     ]
    }
   ],
   "source": [
    "df_mult_10 = df_dinos.query(\"ID % 10 == 0\")\n",
    "print(df_mult_10.head(20))"
   ]
  },
  {
   "cell_type": "markdown",
   "id": "85fc336a-e3e7-40b4-86b3-7e16333a6a7d",
   "metadata": {},
   "source": [
    "### <b>4. Ordenar los resultados de manera ascendente por periodo (Period)</b>"
   ]
  },
  {
   "cell_type": "code",
   "execution_count": 99,
   "id": "09f9b4f1-3152-4691-b7bc-cd4aecfc52f3",
   "metadata": {},
   "outputs": [
    {
     "name": "stdout",
     "output_type": "stream",
     "text": [
      "                  Name      Period                Diet  \\\n",
      "1150      Zuniceratops  Cretaceous           herbivore   \n",
      "850       Quilmesaurus  Cretaceous           carnivore   \n",
      "1140     Zephyrosaurus  Cretaceous           herbivore   \n",
      "400       Futabasaurus  Cretaceous           carnivore   \n",
      "540      Kelmayisaurus  Cretaceous           carnivore   \n",
      "880       Sanchusaurus  Cretaceous           herbivore   \n",
      "520      Jiangxisaurus  Cretaceous            omnivore   \n",
      "510       Iuticosaurus  Cretaceous           herbivore   \n",
      "840    Pycnonemosaurus  Cretaceous           carnivore   \n",
      "860        Regnosaurus  Cretaceous           herbivore   \n",
      "910          Sellacoxa  Cretaceous           herbivore   \n",
      "930   Sigilmassasaurus  Cretaceous           carnivore   \n",
      "460               Haya  Cretaceous  herbivore/omnivore   \n",
      "940   Sinornithosaurus  Cretaceous           carnivore   \n",
      "440        Goyocephale  Cretaceous  herbivore/omnivore   \n",
      "430         Gobiraptor  Cretaceous          omnivorous   \n",
      "420      Gigantoraptor  Cretaceous            omnivore   \n",
      "890        Saurolophus  Cretaceous           herbivore   \n",
      "550      Koreaceratops  Cretaceous           herbivore   \n",
      "790      Peishansaurus  Cretaceous           herbivore   \n",
      "\n",
      "                            Country    ID  \n",
      "1150                  North America  1150  \n",
      "850                   South America   850  \n",
      "1140                  North America  1140  \n",
      "400                           Japan   400  \n",
      "540                           China   540  \n",
      "880                           Japan   880  \n",
      "520                           China   520  \n",
      "510                         England   510  \n",
      "840                   South America   840  \n",
      "860                         England   860  \n",
      "910                         England   910  \n",
      "930                         Morocco   930  \n",
      "460                        Mongolia   460  \n",
      "940                           China   940  \n",
      "440                        Mongolia   440  \n",
      "430                        Mongolia   430  \n",
      "420                           China   420  \n",
      "890   Mongolia, USA, Canada & China   890  \n",
      "550                     South Korea   550  \n",
      "790                           China   790  \n"
     ]
    }
   ],
   "source": [
    "df_mult_10 = df_mult_10.sort_values(\"Period\", ascending=True)\n",
    "print(df_mult_10.head(20))"
   ]
  },
  {
   "cell_type": "markdown",
   "id": "b12f3a19-7fff-4f37-af13-355ec8f497bf",
   "metadata": {},
   "source": [
    "## 2.2. Agrupación y funciones de agregación"
   ]
  },
  {
   "cell_type": "markdown",
   "id": "3f973b49-10a2-44b2-914e-f2be57576bb6",
   "metadata": {},
   "source": [
    "### <b>1. Encontrar la cantidad de dinosaurios por tipo de alimentación (Diet)</b>"
   ]
  },
  {
   "cell_type": "code",
   "execution_count": 159,
   "id": "69206618-e389-4274-8ecc-2fce73dd7756",
   "metadata": {
    "scrolled": true
   },
   "outputs": [
    {
     "name": "stdout",
     "output_type": "stream",
     "text": [
      "                    Diet  n_dinos\n",
      "0            (carnivore)        3\n",
      "1            (herbivore)        1\n",
      "2              (unknown)        7\n",
      "3                      ?        2\n",
      "4              Carnivore        4\n",
      "5              Herbivore        2\n",
      "6              carnivore      340\n",
      "7  carnivore/insectivore        1\n",
      "8     carnivore/omnivore        4\n",
      "9             carnivore?        3\n"
     ]
    }
   ],
   "source": [
    "#En SQL, se haría groupby y COUNT sobre la columna ID/Name(la que tenga valores únicos)\n",
    "df_dinos_group = df_dinos[[\"ID\", \"Diet\"]].groupby(\"Diet\", as_index=False).agg( # Usamos \"as_index=False\" para poder seleccionar la columna aggregada más tarde\n",
    "    n_dinos=pd.NamedAgg(\"ID\", aggfunc=\"count\")\n",
    ")\n",
    "\n",
    "print(df_dinos_group.head(10))"
   ]
  },
  {
   "cell_type": "markdown",
   "id": "ee07bc4d-e5fb-43ef-8221-5148ff909c8b",
   "metadata": {},
   "source": [
    "### <b>2. A partir de este resultado, elimina los paréntesis y coloca la primera letra de cada dieta (Diet) en mayúscula</b>"
   ]
  },
  {
   "cell_type": "code",
   "execution_count": 162,
   "id": "76502c13-e654-4414-9f5d-719fef3ede28",
   "metadata": {},
   "outputs": [
    {
     "name": "stdout",
     "output_type": "stream",
     "text": [
      "                     Diet  n_dinos\n",
      "0                       ?        1\n",
      "1               Carnivore        3\n",
      "2   Carnivore/insectivore        1\n",
      "3      Carnivore/omnivore        1\n",
      "4              Carnivore?        1\n",
      "5               Herbivore        3\n",
      "6      Herbivore/omnivore        1\n",
      "7             Insectivore        1\n",
      "8                Omnivore        1\n",
      "9              Omnivorous        1\n",
      "10                Unknown        2\n"
     ]
    }
   ],
   "source": [
    "# Realizamos una copia para evitar perder la info del DF original\n",
    "df_dinos_group2 = df_dinos_group.copy(deep=True)\n",
    "\n",
    "# Eliminar los paréntesis usando el método apply() de pandas ;; Se puede hacer mayúscula la primera letra con capitalize()\n",
    "df_dinos_group2[\"Diet\"] = df_dinos_group2[\"Diet\"].apply(lambda x: x[1:-1] if (x.startswith(\"(\")) else x)\n",
    "df_dinos_group2[\"Diet\"] = df_dinos_group2[\"Diet\"].str.capitalize()\n",
    "# Se vuelve a agrupar, si usáramos drop_duplicates() perderíamos la info. de \"n_dinos\"\n",
    "df_dinos_group2 = df_dinos_group2.groupby(\"Diet\", as_index=False).agg(\n",
    "    n_dinos=pd.NamedAgg(\"n_dinos\", aggfunc=\"count\")\n",
    ")\n",
    "\n",
    "print(df_dinos_group2)"
   ]
  },
  {
   "cell_type": "markdown",
   "id": "462193e6-71d6-490a-85dc-1a1cdc11e6c3",
   "metadata": {},
   "source": [
    "### <b>3.Ordenar los resultados por tipo de alimentación</b>"
   ]
  },
  {
   "cell_type": "code",
   "execution_count": 165,
   "id": "aca51059-75f9-4141-abf1-75c80db206e4",
   "metadata": {},
   "outputs": [
    {
     "name": "stdout",
     "output_type": "stream",
     "text": [
      "                     Diet  n_dinos\n",
      "0                       ?        1\n",
      "1               Carnivore        3\n",
      "2   Carnivore/insectivore        1\n",
      "3      Carnivore/omnivore        1\n",
      "4              Carnivore?        1\n",
      "5               Herbivore        3\n",
      "6      Herbivore/omnivore        1\n",
      "7             Insectivore        1\n",
      "8                Omnivore        1\n",
      "9              Omnivorous        1\n",
      "10                Unknown        2\n"
     ]
    }
   ],
   "source": [
    "df_dinos_group2 = df_dinos_group2.sort_values(\"Diet\")\n",
    "print(df_dinos_group2)"
   ]
  },
  {
   "cell_type": "markdown",
   "id": "543f18fb-7b03-45dd-918e-456d6a06e488",
   "metadata": {},
   "source": [
    "### <b>4- Hacer el equivalente a un UNION (sin duplicados) con el dataset(CSV) ó tabla original</b>"
   ]
  },
  {
   "cell_type": "code",
   "execution_count": 172,
   "id": "9c0f3e0d-04f2-43ee-9eaa-864ef0d11049",
   "metadata": {},
   "outputs": [
    {
     "name": "stdout",
     "output_type": "stream",
     "text": [
      "                  Name      Period                   Diet  \\\n",
      "1125      Yizhousaurus    Jurassic              herbivore   \n",
      "1126      Yongjinglong  Cretaceous              herbivore   \n",
      "1127     Yuanmousaurus    Jurassic              herbivore   \n",
      "1128        Yueosaurus  Cretaceous              herbivore   \n",
      "1129            Yulong  Cretaceous               omnivore   \n",
      "1130       Yunganglong  Cretaceous              herbivore   \n",
      "1131     Yunnanosaurus    Jurassic              herbivore   \n",
      "1132    Yunxianosaurus  Cretaceous              herbivore   \n",
      "1133       Yurgovuchia  Cretaceous              carnivore   \n",
      "1134        Yutyrannus  Cretaceous              carnivore   \n",
      "1135          Zalmoxes  Cretaceous              herbivore   \n",
      "1136         Zanabazar  Cretaceous              carnivore   \n",
      "1137      Zapalasaurus  Cretaceous              herbivore   \n",
      "1138          Zapsalis  Cretaceous              carnivore   \n",
      "1139               Zby    Jurassic              herbivore   \n",
      "1140     Zephyrosaurus  Cretaceous              herbivore   \n",
      "1141     Zhanghenglong  Cretaceous              herbivore   \n",
      "1142   Zhejiangosaurus  Cretaceous              herbivore   \n",
      "1143        Zhongornis  Cretaceous              (unknown)   \n",
      "1144   Zhongyuansaurus  Cretaceous              herbivore   \n",
      "1145  Zhuchengceratops  Cretaceous              herbivore   \n",
      "1146  Zhuchengtyrannus  Cretaceous              carnivore   \n",
      "1147          Ziapelta  Cretaceous              herbivore   \n",
      "1148     Zigongosaurus    Jurassic              herbivore   \n",
      "1149    Zizhongosaurus    Jurassic              herbivore   \n",
      "1150      Zuniceratops  Cretaceous              herbivore   \n",
      "1151           Zuolong    Jurassic              carnivore   \n",
      "1152       Zupaysaurus    Triassic              carnivore   \n",
      "1153              Zuul  Cretaceous              herbivore   \n",
      "1154               NaN         NaN                      ?   \n",
      "1155               NaN         NaN              Carnivore   \n",
      "1156               NaN         NaN  Carnivore/insectivore   \n",
      "1157               NaN         NaN     Carnivore/omnivore   \n",
      "1158               NaN         NaN             Carnivore?   \n",
      "1159               NaN         NaN              Herbivore   \n",
      "1160               NaN         NaN     Herbivore/omnivore   \n",
      "1161               NaN         NaN            Insectivore   \n",
      "1162               NaN         NaN               Omnivore   \n",
      "1163               NaN         NaN             Omnivorous   \n",
      "1164               NaN         NaN                Unknown   \n",
      "\n",
      "                                                Country      ID  n_dinos  \n",
      "1125  This name was a nomen nudum for eight years an...  1125.0      NaN  \n",
      "1126                             A very large sauropod.  1126.0      NaN  \n",
      "1127                         A mamenchisaurid sauropod.  1127.0      NaN  \n",
      "1128               Probably a relative of Jeholosaurus.  1128.0      NaN  \n",
      "1129                            A small oviraptorosaur.  1129.0      NaN  \n",
      "1130                                    A hadrosauroid.  1130.0      NaN  \n",
      "1131                            A basal sauropodomorph.  1131.0      NaN  \n",
      "1132                             Possibly a titanosaur.  1132.0      NaN  \n",
      "1133                                      North America  1133.0      NaN  \n",
      "1134                                              China  1134.0      NaN  \n",
      "1135                                            Romania  1135.0      NaN  \n",
      "1136                                           Mongolia  1136.0      NaN  \n",
      "1137                                      South America  1137.0      NaN  \n",
      "1138                                      North America  1138.0      NaN  \n",
      "1139                                           Portugal  1139.0      NaN  \n",
      "1140                                      North America  1140.0      NaN  \n",
      "1141                                              China  1141.0      NaN  \n",
      "1142                                              China  1142.0      NaN  \n",
      "1143                                              China  1143.0      NaN  \n",
      "1144                                              China  1144.0      NaN  \n",
      "1145                                              China  1145.0      NaN  \n",
      "1146                                              China  1146.0      NaN  \n",
      "1147                                      North America  1147.0      NaN  \n",
      "1148                                              China  1148.0      NaN  \n",
      "1149                                              China  1149.0      NaN  \n",
      "1150                                      North America  1150.0      NaN  \n",
      "1151                                              China  1151.0      NaN  \n",
      "1152                                      South America  1152.0      NaN  \n",
      "1153                                      North America  1153.0      NaN  \n",
      "1154                                                NaN     NaN      1.0  \n",
      "1155                                                NaN     NaN      3.0  \n",
      "1156                                                NaN     NaN      1.0  \n",
      "1157                                                NaN     NaN      1.0  \n",
      "1158                                                NaN     NaN      1.0  \n",
      "1159                                                NaN     NaN      3.0  \n",
      "1160                                                NaN     NaN      1.0  \n",
      "1161                                                NaN     NaN      1.0  \n",
      "1162                                                NaN     NaN      1.0  \n",
      "1163                                                NaN     NaN      1.0  \n",
      "1164                                                NaN     NaN      2.0  \n"
     ]
    }
   ],
   "source": [
    "#Primero, vamos a obtener ambos dataframes a los que hacer UNION\n",
    "df1 = df_dinos #el original, con IDs\n",
    "df2 = df_dinos_group2\n",
    "\n",
    "# Ahora, usaremos el método CONCAT de pandas para realizar el equivalente a UNION en SQL\n",
    "df1_df2_union = pd.concat([df1, df2], ignore_index=True).drop_duplicates()\n",
    "print(df1_df2_union.tail(40))"
   ]
  },
  {
   "cell_type": "markdown",
   "id": "1cb08a31-0a42-427b-a0f7-89474a2d3c48",
   "metadata": {},
   "source": [
    "### <b>5- Si hacemos un tail() al DF original (o al resultante), nos daremos cuenta de que hay algunos datos en la columna Country que no tienen que ver con el país/origen de los dinosaurios. Pasa aquellos valores que cumplan estas condiciones a una nueva columna llamada Descripcion.</b>\n",
    "PISTA: usa la función de python split() para lograrlo\n"
   ]
  },
  {
   "cell_type": "code",
   "execution_count": 202,
   "id": "2f70cb83-a3a8-45b9-81fc-2772e478e52d",
   "metadata": {
    "scrolled": true
   },
   "outputs": [
    {
     "name": "stdout",
     "output_type": "stream",
     "text": [
      "Tail 30:\n",
      "                  Name      Period       Diet        Country    ID\n",
      "1144   Zhongyuansaurus  Cretaceous  herbivore          China  1144\n",
      "1145  Zhuchengceratops  Cretaceous  herbivore          China  1145\n",
      "1146  Zhuchengtyrannus  Cretaceous  carnivore          China  1146\n",
      "1147          Ziapelta  Cretaceous  herbivore  North America  1147\n",
      "1148     Zigongosaurus    Jurassic  herbivore          China  1148\n",
      "1149    Zizhongosaurus    Jurassic  herbivore          China  1149\n",
      "1150      Zuniceratops  Cretaceous  herbivore  North America  1150\n",
      "1151           Zuolong    Jurassic  carnivore          China  1151\n",
      "1152       Zupaysaurus    Triassic  carnivore  South America  1152\n",
      "1153              Zuul  Cretaceous  herbivore  North America  1153\n",
      "Resultado:\n",
      "                  Name      Period       Diet             Country    ID  \\\n",
      "1124     Yixianosaurus  Cretaceous  carnivore  Origen desconocido  1124   \n",
      "1125      Yizhousaurus    Jurassic  herbivore  Origen desconocido  1125   \n",
      "1126      Yongjinglong  Cretaceous  herbivore  Origen desconocido  1126   \n",
      "1127     Yuanmousaurus    Jurassic  herbivore  Origen desconocido  1127   \n",
      "1128        Yueosaurus  Cretaceous  herbivore  Origen desconocido  1128   \n",
      "1129            Yulong  Cretaceous   omnivore  Origen desconocido  1129   \n",
      "1130       Yunganglong  Cretaceous  herbivore     A hadrosauroid.  1130   \n",
      "1131     Yunnanosaurus    Jurassic  herbivore  Origen desconocido  1131   \n",
      "1132    Yunxianosaurus  Cretaceous  herbivore  Origen desconocido  1132   \n",
      "1133       Yurgovuchia  Cretaceous  carnivore       North America  1133   \n",
      "1134        Yutyrannus  Cretaceous  carnivore               China  1134   \n",
      "1135          Zalmoxes  Cretaceous  herbivore             Romania  1135   \n",
      "1136         Zanabazar  Cretaceous  carnivore            Mongolia  1136   \n",
      "1137      Zapalasaurus  Cretaceous  herbivore       South America  1137   \n",
      "1138          Zapsalis  Cretaceous  carnivore       North America  1138   \n",
      "1139               Zby    Jurassic  herbivore            Portugal  1139   \n",
      "1140     Zephyrosaurus  Cretaceous  herbivore       North America  1140   \n",
      "1141     Zhanghenglong  Cretaceous  herbivore               China  1141   \n",
      "1142   Zhejiangosaurus  Cretaceous  herbivore               China  1142   \n",
      "1143        Zhongornis  Cretaceous  (unknown)               China  1143   \n",
      "1144   Zhongyuansaurus  Cretaceous  herbivore               China  1144   \n",
      "1145  Zhuchengceratops  Cretaceous  herbivore               China  1145   \n",
      "1146  Zhuchengtyrannus  Cretaceous  carnivore               China  1146   \n",
      "1147          Ziapelta  Cretaceous  herbivore       North America  1147   \n",
      "1148     Zigongosaurus    Jurassic  herbivore               China  1148   \n",
      "1149    Zizhongosaurus    Jurassic  herbivore               China  1149   \n",
      "1150      Zuniceratops  Cretaceous  herbivore       North America  1150   \n",
      "1151           Zuolong    Jurassic  carnivore               China  1151   \n",
      "1152       Zupaysaurus    Triassic  carnivore       South America  1152   \n",
      "1153              Zuul  Cretaceous  herbivore       North America  1153   \n",
      "\n",
      "                                            Descripcion  \n",
      "1124  The only anchiornithid to live in the Cretaceous.  \n",
      "1125  This name was a nomen nudum for eight years an...  \n",
      "1126                             A very large sauropod.  \n",
      "1127                         A mamenchisaurid sauropod.  \n",
      "1128               Probably a relative of Jeholosaurus.  \n",
      "1129                            A small oviraptorosaur.  \n",
      "1130                                         Dinosaurio  \n",
      "1131                            A basal sauropodomorph.  \n",
      "1132                             Possibly a titanosaur.  \n",
      "1133                                         Dinosaurio  \n",
      "1134                                         Dinosaurio  \n",
      "1135                                         Dinosaurio  \n",
      "1136                                         Dinosaurio  \n",
      "1137                                         Dinosaurio  \n",
      "1138                                         Dinosaurio  \n",
      "1139                                         Dinosaurio  \n",
      "1140                                         Dinosaurio  \n",
      "1141                                         Dinosaurio  \n",
      "1142                                         Dinosaurio  \n",
      "1143                                         Dinosaurio  \n",
      "1144                                         Dinosaurio  \n",
      "1145                                         Dinosaurio  \n",
      "1146                                         Dinosaurio  \n",
      "1147                                         Dinosaurio  \n",
      "1148                                         Dinosaurio  \n",
      "1149                                         Dinosaurio  \n",
      "1150                                         Dinosaurio  \n",
      "1151                                         Dinosaurio  \n",
      "1152                                         Dinosaurio  \n",
      "1153                                         Dinosaurio  \n"
     ]
    }
   ],
   "source": [
    "print(\"Tail 30:\")\n",
    "print(df_dinos.tail(10))\n",
    "\n",
    "#Hacer una copia, y pasar los valores de \"Country\" que sean descripciones a una columna \"Descripcion\"\n",
    "df_descrips = df_dinos.copy(deep=True)\n",
    "df_descrips[\"Descripcion\"] = df_descrips[\"Country\"].apply(lambda x: x if (len(x.split(\" \")) >= 3) else \"Dinosaurio\")\n",
    "\n",
    "# Quitar los valores de Country que tengan una \"descripcion\"\n",
    "df_descrips[\"Country\"] = df_descrips[\"Country\"].apply(lambda x: x if (len(x.split(\" \")) <= 2) else \"Origen desconocido\")\n",
    "\n",
    "print(\"Resultado:\")\n",
    "print(df_descrips.tail(30))"
   ]
  },
  {
   "cell_type": "code",
   "execution_count": null,
   "id": "2a5d5374-4599-40d4-beb8-380ea079466a",
   "metadata": {},
   "outputs": [],
   "source": []
  }
 ],
 "metadata": {
  "kernelspec": {
   "display_name": "Python 3 (ipykernel)",
   "language": "python",
   "name": "python3"
  },
  "language_info": {
   "codemirror_mode": {
    "name": "ipython",
    "version": 3
   },
   "file_extension": ".py",
   "mimetype": "text/x-python",
   "name": "python",
   "nbconvert_exporter": "python",
   "pygments_lexer": "ipython3",
   "version": "3.11.7"
  }
 },
 "nbformat": 4,
 "nbformat_minor": 5
}
